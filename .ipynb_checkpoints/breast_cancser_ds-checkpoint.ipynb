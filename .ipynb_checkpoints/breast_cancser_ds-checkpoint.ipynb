{
 "cells": [
  {
   "cell_type": "code",
   "execution_count": 2,
   "id": "4d484d74",
   "metadata": {},
   "outputs": [],
   "source": [
    "import pandas as pd\n",
    "import numpy as np\n",
    "import matplotlib.pyplot as plt\n",
    "from sklearn.datasets import load_breast_cancer\n",
    "from sklearn.model_selection import cross_val_score, KFold\n",
    "import xgboost as xgb\n",
    "from pandas.plotting import scatter_matrix\n",
    "import textwrap\n",
    "import seaborn as sns\n",
    "import random\n",
    "\n",
    "# Load the Breast Cancer dataset\n",
    "cancer = load_breast_cancer()\n",
    "X_cancer = cancer.data\n",
    "y_cancer = cancer.target\n",
    "\n",
    "# Create a DataFrame from the Breast Cancer dataset\n",
    "cancer_df = pd.DataFrame(X_cancer, columns=cancer.feature_names)\n",
    "cancer_df['diagnosis'] = pd.Categorical.from_codes(y_cancer, cancer.target_names)\n",
    "# Function to wrap text\n",
    "def wrap_text(text, width=10):\n",
    "    return '\\n'.join(textwrap.wrap(text, width))\n",
    "\n",
    "num_features = 10\n",
    "\n",
    "# Randomly sample feature names\n",
    "random_features = random.sample(list(cancer.feature_names), num_features)\n",
    "# Create a DataFrame from the Breast Cancer dataset with only the selected features\n",
    "cancer_df = pd.DataFrame(X_cancer, columns=cancer.feature_names)[random_features]\n",
    "cancer_df['diagnosis'] = pd.Categorical.from_codes(y_cancer, cancer.target_names)\n",
    "\n",
    "# Wrap feature names\n",
    "wrapped_feature_names = [wrap_text(name) for name in random_features]\n",
    "\n",
    "# Create a DataFrame from the Breast Cancer dataset with wrapped feature names and only the selected features\n",
    "cancer_df_wrapped = pd.DataFrame(cancer_df, columns=random_features)\n",
    "cancer_df_wrapped.columns = wrapped_feature_names\n",
    "cancer_df_wrapped['diagnosis'] = pd.Categorical.from_codes(y_cancer, cancer.target_names)\n",
    "\n",
    "\n",
    "# Visualize the data using a scatter matrix (first 10 features)\n",
    "#scatter_matrix_fig = scatter_matrix(cancer_df_wrapped.iloc[:, :], figsize=(20, 20), c=y_cancer, marker='o', hist_kwds={'bins': 20}, s=60, alpha=.8)\n",
    "\n",
    "# Custom histogram function\n",
    "def colored_hist(x, color, **kwargs):\n",
    "    bins = kwargs.pop('bins', 20)\n",
    "    plt.hist(x, bins=bins, color=color, alpha=0.5, **kwargs)\n",
    "\n",
    "# Custom scatter_matrix function\n",
    "def colored_scatter_matrix(data, hue, hue_order=None, hue_cmap='viridis', **kwargs):\n",
    "    g = sns.pairplot(data, diag_kind='hist', hue=hue, hue_order=hue_order, palette=hue_cmap, **kwargs)\n",
    "    for i, j in zip(*np.triu_indices_from(g.axes, 1)):\n",
    "        g.axes[i, j].set_visible(False)\n",
    "    return g\n",
    "\n",
    "# Visualize the data using a colored scatter matrix (first 10 features)\n",
    "\n",
    "g = colored_scatter_matrix(cancer_df_wrapped.iloc[:, :], hue='diagnosis', hue_order=cancer.target_names, markers='o', height=2, aspect=1.2)\n",
    "\n",
    "plt.savefig('scatter_matrix_colored.png', bbox_inches='tight', dpi=100)\n",
    "plt.close()\n"
   ]
  },
  {
   "cell_type": "markdown",
   "id": "7caa5fae",
   "metadata": {},
   "source": [
    "# Breast Cancer Wisconsin (Diagnostic) Dataset Scatter Matrix\n",
    "\n",
    "This scatter matrix displays the relationships between the first 10 features of the Breast Cancer dataset. Each off-diagonal scatter plot shows the relationship between two features, with points colored based on the diagnosis (malignant or benign). The diagonal plots show the distribution of each feature as a histogram.\n",
    "\n",
    "**Key points:**\n",
    "- Scatter matrices provide a high-level overview of feature relationships but may not capture complex patterns or interactions.\n",
    "- When dealing with high-dimensional datasets, scatter matrices can become overwhelming, and alternative visualization techniques such as PCA or t-SNE might be more appropriate.\n",
    "- In the scatter matrix, each row and column represent a feature in the dataset. The scatter plots off the diagonal show the relationship between pairs of features, while the diagonal plots show the distribution of a single feature.\n",
    "- some general observations you can make from a scatter plot:\n",
    "\n",
    "    * Positive Correlation: If the dots form an upward trend (from bottom-left to top-right), it indicates that there is a positive correlation between the two features. As one feature increases, the other also tends to increase.\n",
    "\n",
    "    * Negative Correlation: If the dots form a downward trend (from top-left to bottom-right), it suggests a negative correlation between the two features. As one feature increases, the other tends to decrease.\n",
    "\n",
    "    * No Correlation: If the dots form a random pattern with no apparent trend, it means that there is little or no correlation between the two features.\n",
    "\n",
    "    * Non-linear Relationship: If the dots form a curve or any other non-linear pattern, it indicates a non-linear relationship between the features.\n",
    "\n",
    "<img src=\"scatter_matrix_colored.png\" alt=\"Breast Cancer Scatter Matrix\" style=\"width: 100%; max-width: 800px;\"/>\n"
   ]
  },
  {
   "cell_type": "code",
   "execution_count": 3,
   "id": "42254eff",
   "metadata": {},
   "outputs": [
    {
     "name": "stdout",
     "output_type": "stream",
     "text": [
      "Cross-validated accuracy: 97.19% (+/- 1.29%)\n"
     ]
    }
   ],
   "source": [
    "# Convert the data into DMatrix format\n",
    "D_cancer = xgb.DMatrix(X_cancer, label=y_cancer)\n",
    "\n",
    "# Set XGBoost parameters\n",
    "params_cancer = {\n",
    "    'objective': 'binary:logistic',\n",
    "    'max_depth': 3,\n",
    "    'eta': 0.3,\n",
    "}\n",
    "\n",
    "# Train the XGBoost model with cross-validation\n",
    "num_rounds_cancer = 100\n",
    "kfold_cancer = KFold(n_splits=5, shuffle=True, random_state=42)\n",
    "cv_scores_cancer = xgb.cv(params_cancer, D_cancer, num_rounds_cancer, folds=kfold_cancer, metrics='error', as_pandas=True)\n",
    "\n",
    "# Calculate mean and standard deviation of the cross-validation scores\n",
    "mean_score_cancer = 1 - cv_scores_cancer['test-error-mean'].iloc[-1]\n",
    "std_score_cancer = cv_scores_cancer['test-error-std'].iloc[-1]\n",
    "\n",
    "print(f\"Cross-validated accuracy: {mean_score_cancer * 100:.2f}% (+/- {std_score_cancer * 100:.2f}%)\")"
   ]
  },
  {
   "cell_type": "code",
   "execution_count": null,
   "id": "df7735a9",
   "metadata": {},
   "outputs": [],
   "source": []
  },
  {
   "cell_type": "code",
   "execution_count": null,
   "id": "a1c96b0f",
   "metadata": {},
   "outputs": [],
   "source": []
  },
  {
   "cell_type": "code",
   "execution_count": null,
   "id": "b721f9ee",
   "metadata": {},
   "outputs": [],
   "source": []
  }
 ],
 "metadata": {
  "kernelspec": {
   "display_name": "Python 3 (ipykernel)",
   "language": "python",
   "name": "python3"
  },
  "language_info": {
   "codemirror_mode": {
    "name": "ipython",
    "version": 3
   },
   "file_extension": ".py",
   "mimetype": "text/x-python",
   "name": "python",
   "nbconvert_exporter": "python",
   "pygments_lexer": "ipython3",
   "version": "3.11.0"
  }
 },
 "nbformat": 4,
 "nbformat_minor": 5
}
